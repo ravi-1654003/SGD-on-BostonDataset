{
 "cells": [
  {
   "cell_type": "code",
   "execution_count": 65,
   "metadata": {},
   "outputs": [],
   "source": [
    "from sklearn.datasets import load_boston\n",
    "boston = load_boston()\n"
   ]
  },
  {
   "cell_type": "code",
   "execution_count": 66,
   "metadata": {},
   "outputs": [
    {
     "name": "stdout",
     "output_type": "stream",
     "text": [
      "(506, 13)\n"
     ]
    }
   ],
   "source": [
    "print(boston.data.shape)"
   ]
  },
  {
   "cell_type": "code",
   "execution_count": 67,
   "metadata": {
    "scrolled": true
   },
   "outputs": [
    {
     "name": "stdout",
     "output_type": "stream",
     "text": [
      "['CRIM' 'ZN' 'INDUS' 'CHAS' 'NOX' 'RM' 'AGE' 'DIS' 'RAD' 'TAX' 'PTRATIO'\n",
      " 'B' 'LSTAT']\n"
     ]
    }
   ],
   "source": [
    "print(boston.feature_names)"
   ]
  },
  {
   "cell_type": "code",
   "execution_count": 68,
   "metadata": {},
   "outputs": [
    {
     "name": "stdout",
     "output_type": "stream",
     "text": [
      "[24.  21.6 34.7 33.4 36.2 28.7 22.9 27.1 16.5 18.9 15.  18.9 21.7 20.4\n",
      " 18.2 19.9 23.1 17.5 20.2 18.2 13.6 19.6 15.2 14.5 15.6 13.9 16.6 14.8\n",
      " 18.4 21.  12.7 14.5 13.2 13.1 13.5 18.9 20.  21.  24.7 30.8 34.9 26.6\n",
      " 25.3 24.7 21.2 19.3 20.  16.6 14.4 19.4 19.7 20.5 25.  23.4 18.9 35.4\n",
      " 24.7 31.6 23.3 19.6 18.7 16.  22.2 25.  33.  23.5 19.4 22.  17.4 20.9\n",
      " 24.2 21.7 22.8 23.4 24.1 21.4 20.  20.8 21.2 20.3 28.  23.9 24.8 22.9\n",
      " 23.9 26.6 22.5 22.2 23.6 28.7 22.6 22.  22.9 25.  20.6 28.4 21.4 38.7\n",
      " 43.8 33.2 27.5 26.5 18.6 19.3 20.1 19.5 19.5 20.4 19.8 19.4 21.7 22.8\n",
      " 18.8 18.7 18.5 18.3 21.2 19.2 20.4 19.3 22.  20.3 20.5 17.3 18.8 21.4\n",
      " 15.7 16.2 18.  14.3 19.2 19.6 23.  18.4 15.6 18.1 17.4 17.1 13.3 17.8\n",
      " 14.  14.4 13.4 15.6 11.8 13.8 15.6 14.6 17.8 15.4 21.5 19.6 15.3 19.4\n",
      " 17.  15.6 13.1 41.3 24.3 23.3 27.  50.  50.  50.  22.7 25.  50.  23.8\n",
      " 23.8 22.3 17.4 19.1 23.1 23.6 22.6 29.4 23.2 24.6 29.9 37.2 39.8 36.2\n",
      " 37.9 32.5 26.4 29.6 50.  32.  29.8 34.9 37.  30.5 36.4 31.1 29.1 50.\n",
      " 33.3 30.3 34.6 34.9 32.9 24.1 42.3 48.5 50.  22.6 24.4 22.5 24.4 20.\n",
      " 21.7 19.3 22.4 28.1 23.7 25.  23.3 28.7 21.5 23.  26.7 21.7 27.5 30.1\n",
      " 44.8 50.  37.6 31.6 46.7 31.5 24.3 31.7 41.7 48.3 29.  24.  25.1 31.5\n",
      " 23.7 23.3 22.  20.1 22.2 23.7 17.6 18.5 24.3 20.5 24.5 26.2 24.4 24.8\n",
      " 29.6 42.8 21.9 20.9 44.  50.  36.  30.1 33.8 43.1 48.8 31.  36.5 22.8\n",
      " 30.7 50.  43.5 20.7 21.1 25.2 24.4 35.2 32.4 32.  33.2 33.1 29.1 35.1\n",
      " 45.4 35.4 46.  50.  32.2 22.  20.1 23.2 22.3 24.8 28.5 37.3 27.9 23.9\n",
      " 21.7 28.6 27.1 20.3 22.5 29.  24.8 22.  26.4 33.1 36.1 28.4 33.4 28.2\n",
      " 22.8 20.3 16.1 22.1 19.4 21.6 23.8 16.2 17.8 19.8 23.1 21.  23.8 23.1\n",
      " 20.4 18.5 25.  24.6 23.  22.2 19.3 22.6 19.8 17.1 19.4 22.2 20.7 21.1\n",
      " 19.5 18.5 20.6 19.  18.7 32.7 16.5 23.9 31.2 17.5 17.2 23.1 24.5 26.6\n",
      " 22.9 24.1 18.6 30.1 18.2 20.6 17.8 21.7 22.7 22.6 25.  19.9 20.8 16.8\n",
      " 21.9 27.5 21.9 23.1 50.  50.  50.  50.  50.  13.8 13.8 15.  13.9 13.3\n",
      " 13.1 10.2 10.4 10.9 11.3 12.3  8.8  7.2 10.5  7.4 10.2 11.5 15.1 23.2\n",
      "  9.7 13.8 12.7 13.1 12.5  8.5  5.   6.3  5.6  7.2 12.1  8.3  8.5  5.\n",
      " 11.9 27.9 17.2 27.5 15.  17.2 17.9 16.3  7.   7.2  7.5 10.4  8.8  8.4\n",
      " 16.7 14.2 20.8 13.4 11.7  8.3 10.2 10.9 11.   9.5 14.5 14.1 16.1 14.3\n",
      " 11.7 13.4  9.6  8.7  8.4 12.8 10.5 17.1 18.4 15.4 10.8 11.8 14.9 12.6\n",
      " 14.1 13.  13.4 15.2 16.1 17.8 14.9 14.1 12.7 13.5 14.9 20.  16.4 17.7\n",
      " 19.5 20.2 21.4 19.9 19.  19.1 19.1 20.1 19.9 19.6 23.2 29.8 13.8 13.3\n",
      " 16.7 12.  14.6 21.4 23.  23.7 25.  21.8 20.6 21.2 19.1 20.6 15.2  7.\n",
      "  8.1 13.6 20.1 21.8 24.5 23.1 19.7 18.3 21.2 17.5 16.8 22.4 20.6 23.9\n",
      " 22.  11.9]\n"
     ]
    }
   ],
   "source": [
    "print(boston.target) #value of Y"
   ]
  },
  {
   "cell_type": "code",
   "execution_count": 69,
   "metadata": {},
   "outputs": [
    {
     "name": "stdout",
     "output_type": "stream",
     "text": [
      ".. _boston_dataset:\n",
      "\n",
      "Boston house prices dataset\n",
      "---------------------------\n",
      "\n",
      "**Data Set Characteristics:**  \n",
      "\n",
      "    :Number of Instances: 506 \n",
      "\n",
      "    :Number of Attributes: 13 numeric/categorical predictive. Median Value (attribute 14) is usually the target.\n",
      "\n",
      "    :Attribute Information (in order):\n",
      "        - CRIM     per capita crime rate by town\n",
      "        - ZN       proportion of residential land zoned for lots over 25,000 sq.ft.\n",
      "        - INDUS    proportion of non-retail business acres per town\n",
      "        - CHAS     Charles River dummy variable (= 1 if tract bounds river; 0 otherwise)\n",
      "        - NOX      nitric oxides concentration (parts per 10 million)\n",
      "        - RM       average number of rooms per dwelling\n",
      "        - AGE      proportion of owner-occupied units built prior to 1940\n",
      "        - DIS      weighted distances to five Boston employment centres\n",
      "        - RAD      index of accessibility to radial highways\n",
      "        - TAX      full-value property-tax rate per $10,000\n",
      "        - PTRATIO  pupil-teacher ratio by town\n",
      "        - B        1000(Bk - 0.63)^2 where Bk is the proportion of blacks by town\n",
      "        - LSTAT    % lower status of the population\n",
      "        - MEDV     Median value of owner-occupied homes in $1000's\n",
      "\n",
      "    :Missing Attribute Values: None\n",
      "\n",
      "    :Creator: Harrison, D. and Rubinfeld, D.L.\n",
      "\n",
      "This is a copy of UCI ML housing dataset.\n",
      "https://archive.ics.uci.edu/ml/machine-learning-databases/housing/\n",
      "\n",
      "\n",
      "This dataset was taken from the StatLib library which is maintained at Carnegie Mellon University.\n",
      "\n",
      "The Boston house-price data of Harrison, D. and Rubinfeld, D.L. 'Hedonic\n",
      "prices and the demand for clean air', J. Environ. Economics & Management,\n",
      "vol.5, 81-102, 1978.   Used in Belsley, Kuh & Welsch, 'Regression diagnostics\n",
      "...', Wiley, 1980.   N.B. Various transformations are used in the table on\n",
      "pages 244-261 of the latter.\n",
      "\n",
      "The Boston house-price data has been used in many machine learning papers that address regression\n",
      "problems.   \n",
      "     \n",
      ".. topic:: References\n",
      "\n",
      "   - Belsley, Kuh & Welsch, 'Regression diagnostics: Identifying Influential Data and Sources of Collinearity', Wiley, 1980. 244-261.\n",
      "   - Quinlan,R. (1993). Combining Instance-Based and Model-Based Learning. In Proceedings on the Tenth International Conference of Machine Learning, 236-243, University of Massachusetts, Amherst. Morgan Kaufmann.\n",
      "\n"
     ]
    }
   ],
   "source": [
    "print(boston.DESCR)"
   ]
  },
  {
   "cell_type": "code",
   "execution_count": 70,
   "metadata": {},
   "outputs": [
    {
     "name": "stdout",
     "output_type": "stream",
     "text": [
      "        0     1     2    3      4      5     6       7    8      9     10  \\\n",
      "0  0.00632  18.0  2.31  0.0  0.538  6.575  65.2  4.0900  1.0  296.0  15.3   \n",
      "1  0.02731   0.0  7.07  0.0  0.469  6.421  78.9  4.9671  2.0  242.0  17.8   \n",
      "2  0.02729   0.0  7.07  0.0  0.469  7.185  61.1  4.9671  2.0  242.0  17.8   \n",
      "3  0.03237   0.0  2.18  0.0  0.458  6.998  45.8  6.0622  3.0  222.0  18.7   \n",
      "4  0.06905   0.0  2.18  0.0  0.458  7.147  54.2  6.0622  3.0  222.0  18.7   \n",
      "\n",
      "       11    12  \n",
      "0  396.90  4.98  \n",
      "1  396.90  9.14  \n",
      "2  392.83  4.03  \n",
      "3  394.63  2.94  \n",
      "4  396.90  5.33  \n"
     ]
    }
   ],
   "source": [
    "import pandas as pd\n",
    "bos = pd.DataFrame(boston.data)\n",
    "print(bos.head())"
   ]
  },
  {
   "cell_type": "code",
   "execution_count": 71,
   "metadata": {},
   "outputs": [],
   "source": [
    "bos['PRICE'] = boston.target\n",
    "X = bos.drop('PRICE',axis=1)\n",
    "Y = bos['PRICE']"
   ]
  },
  {
   "cell_type": "code",
   "execution_count": 72,
   "metadata": {},
   "outputs": [
    {
     "name": "stdout",
     "output_type": "stream",
     "text": [
      "(339, 13) (339,)\n",
      "(167, 13) (167,)\n"
     ]
    }
   ],
   "source": [
    "from sklearn.model_selection import train_test_split\n",
    "X_train, X_test,Y_train,Y_test= train_test_split(X,Y, test_size = 0.33, random_state = 5)\n",
    "print(X_train.shape,Y_train.shape)\n",
    "print(X_test.shape,Y_test.shape)"
   ]
  },
  {
   "cell_type": "code",
   "execution_count": 73,
   "metadata": {},
   "outputs": [
    {
     "name": "stdout",
     "output_type": "stream",
     "text": [
      "After vectorizations\n",
      "(339, 13) (339,)\n",
      "(167, 13) (167,)\n"
     ]
    }
   ],
   "source": [
    "from sklearn.preprocessing import Normalizer\n",
    "normalizer = Normalizer()\n",
    "\n",
    "normalizer.fit(X_train)\n",
    "X_train = normalizer.transform(X_train)\n",
    "X_test = normalizer.transform(X_test)\n",
    "\n",
    "print(\"After vectorizations\")\n",
    "print(X_train.shape, Y_train.shape)\n",
    "print(X_test.shape, Y_test.shape)"
   ]
  },
  {
   "cell_type": "code",
   "execution_count": 74,
   "metadata": {
    "scrolled": true
   },
   "outputs": [],
   "source": [
    "Y_train = Y_train.tolist()\n",
    "Y_test = Y_test.tolist()\n"
   ]
  },
  {
   "cell_type": "markdown",
   "metadata": {},
   "source": [
    "## part 1: My own version of SGD"
   ]
  },
  {
   "cell_type": "code",
   "execution_count": 75,
   "metadata": {},
   "outputs": [
    {
     "name": "stdout",
     "output_type": "stream",
     "text": [
      ">epoch=0, lrate=0.500, error=-46.044\n",
      ">epoch=1, lrate=0.250, error=4.059\n",
      ">epoch=2, lrate=0.125, error=0.459\n",
      ">epoch=3, lrate=0.062, error=-1.126\n",
      ">epoch=4, lrate=0.031, error=-2.255\n",
      ">epoch=5, lrate=0.016, error=-2.691\n",
      ">epoch=6, lrate=0.008, error=-2.715\n",
      ">epoch=7, lrate=0.004, error=-2.735\n",
      ">epoch=8, lrate=0.002, error=-2.720\n",
      ">epoch=9, lrate=0.001, error=-2.678\n",
      ">epoch=10, lrate=0.000, error=-2.648\n",
      ">epoch=11, lrate=0.000, error=-2.631\n",
      ">epoch=12, lrate=0.000, error=-2.623\n",
      ">epoch=13, lrate=0.000, error=-2.618\n",
      ">epoch=14, lrate=0.000, error=-2.616\n",
      ">epoch=15, lrate=0.000, error=-2.615\n",
      ">epoch=16, lrate=0.000, error=-2.614\n",
      ">epoch=17, lrate=0.000, error=-2.614\n",
      ">epoch=18, lrate=0.000, error=-2.614\n",
      ">epoch=19, lrate=0.000, error=-2.614\n",
      ">epoch=20, lrate=0.000, error=-2.614\n",
      ">epoch=21, lrate=0.000, error=-2.614\n",
      ">epoch=22, lrate=0.000, error=-2.614\n",
      ">epoch=23, lrate=0.000, error=-2.614\n",
      ">epoch=24, lrate=0.000, error=-2.614\n",
      ">epoch=25, lrate=0.000, error=-2.614\n",
      ">epoch=26, lrate=0.000, error=-2.614\n",
      ">epoch=27, lrate=0.000, error=-2.614\n",
      ">epoch=28, lrate=0.000, error=-2.614\n",
      ">epoch=29, lrate=0.000, error=-2.614\n",
      ">epoch=30, lrate=0.000, error=-2.614\n",
      ">epoch=31, lrate=0.000, error=-2.614\n",
      ">epoch=32, lrate=0.000, error=-2.614\n",
      ">epoch=33, lrate=0.000, error=-2.614\n",
      ">epoch=34, lrate=0.000, error=-2.614\n",
      ">epoch=35, lrate=0.000, error=-2.614\n",
      ">epoch=36, lrate=0.000, error=-2.614\n",
      ">epoch=37, lrate=0.000, error=-2.614\n",
      ">epoch=38, lrate=0.000, error=-2.614\n",
      ">epoch=39, lrate=0.000, error=-2.614\n",
      ">epoch=40, lrate=0.000, error=-2.614\n",
      ">epoch=41, lrate=0.000, error=-2.614\n",
      ">epoch=42, lrate=0.000, error=-2.614\n",
      ">epoch=43, lrate=0.000, error=-2.614\n",
      ">epoch=44, lrate=0.000, error=-2.614\n",
      ">epoch=45, lrate=0.000, error=-2.614\n",
      ">epoch=46, lrate=0.000, error=-2.614\n",
      ">epoch=47, lrate=0.000, error=-2.614\n",
      ">epoch=48, lrate=0.000, error=-2.614\n",
      ">epoch=49, lrate=0.000, error=-2.614\n",
      ">epoch=50, lrate=0.000, error=-2.614\n",
      ">epoch=51, lrate=0.000, error=-2.614\n",
      ">epoch=52, lrate=0.000, error=-2.614\n",
      ">epoch=53, lrate=0.000, error=-2.614\n",
      ">epoch=54, lrate=0.000, error=-2.614\n",
      ">epoch=55, lrate=0.000, error=-2.614\n",
      ">epoch=56, lrate=0.000, error=-2.614\n",
      ">epoch=57, lrate=0.000, error=-2.614\n",
      ">epoch=58, lrate=0.000, error=-2.614\n",
      ">epoch=59, lrate=0.000, error=-2.614\n",
      ">epoch=60, lrate=0.000, error=-2.614\n",
      ">epoch=61, lrate=0.000, error=-2.614\n",
      ">epoch=62, lrate=0.000, error=-2.614\n",
      ">epoch=63, lrate=0.000, error=-2.614\n",
      ">epoch=64, lrate=0.000, error=-2.614\n",
      ">epoch=65, lrate=0.000, error=-2.614\n",
      ">epoch=66, lrate=0.000, error=-2.614\n",
      ">epoch=67, lrate=0.000, error=-2.614\n",
      ">epoch=68, lrate=0.000, error=-2.614\n",
      ">epoch=69, lrate=0.000, error=-2.614\n",
      ">epoch=70, lrate=0.000, error=-2.614\n",
      ">epoch=71, lrate=0.000, error=-2.614\n",
      ">epoch=72, lrate=0.000, error=-2.614\n",
      ">epoch=73, lrate=0.000, error=-2.614\n",
      ">epoch=74, lrate=0.000, error=-2.614\n",
      ">epoch=75, lrate=0.000, error=-2.614\n",
      ">epoch=76, lrate=0.000, error=-2.614\n",
      ">epoch=77, lrate=0.000, error=-2.614\n",
      ">epoch=78, lrate=0.000, error=-2.614\n",
      ">epoch=79, lrate=0.000, error=-2.614\n",
      ">epoch=80, lrate=0.000, error=-2.614\n",
      ">epoch=81, lrate=0.000, error=-2.614\n",
      ">epoch=82, lrate=0.000, error=-2.614\n",
      ">epoch=83, lrate=0.000, error=-2.614\n",
      ">epoch=84, lrate=0.000, error=-2.614\n",
      ">epoch=85, lrate=0.000, error=-2.614\n",
      ">epoch=86, lrate=0.000, error=-2.614\n",
      ">epoch=87, lrate=0.000, error=-2.614\n",
      ">epoch=88, lrate=0.000, error=-2.614\n",
      ">epoch=89, lrate=0.000, error=-2.614\n",
      ">epoch=90, lrate=0.000, error=-2.614\n",
      ">epoch=91, lrate=0.000, error=-2.614\n",
      ">epoch=92, lrate=0.000, error=-2.614\n",
      ">epoch=93, lrate=0.000, error=-2.614\n",
      ">epoch=94, lrate=0.000, error=-2.614\n",
      ">epoch=95, lrate=0.000, error=-2.614\n",
      ">epoch=96, lrate=0.000, error=-2.614\n",
      ">epoch=97, lrate=0.000, error=-2.614\n",
      ">epoch=98, lrate=0.000, error=-2.614\n",
      ">epoch=99, lrate=0.000, error=-2.614\n",
      "[-14.11572271 -31.09801633   1.81805275  -0.73741451  -1.54862015\n",
      "   2.84273791 -34.01481513  -1.10307373  14.8700715   12.05657102\n",
      "  -4.85674583  33.03570001 -20.55053876]\n",
      "-2.5413535195210475\n"
     ]
    }
   ],
   "source": [
    " # Estimate linear regression coefficients using stochastic gradient descent\n",
    "import numpy as np\n",
    "def coefficients_sgd(train, l_rate, n_epoch):\n",
    "    w = np.random.normal(0, 1, 13) # initialising w as (13x1) matrix\n",
    "    b = np.random.normal(0, 1) # initialising b as a random scaler value\n",
    "    for epoch in range(n_epoch):\n",
    "        l_rate = l_rate/2\n",
    "        i = 0\n",
    "        for row in train:\n",
    "            error = (Y_train[i] - (np.dot(w.T,row) + b))\n",
    "            b = b + (2*l_rate * error)\n",
    "            w = w + (2*l_rate * error)*row\n",
    "            i += 1\n",
    "        print('>epoch=%d, lrate=%.3f, error=%.3f' % (epoch, l_rate,error))\n",
    "    return (w,b)\n",
    " \n",
    "# Calculate coefficients\n",
    "\n",
    "l_rate = 1\n",
    "n_epoch = 100\n",
    "w,b = coefficients_sgd(X_train, l_rate, n_epoch)\n",
    "print(w)\n",
    "print(b)"
   ]
  },
  {
   "cell_type": "markdown",
   "metadata": {},
   "source": [
    "## part 2: predicted values Vs actual values of My own SGD"
   ]
  },
  {
   "cell_type": "code",
   "execution_count": 76,
   "metadata": {},
   "outputs": [],
   "source": [
    "def predict(w,b,X_test):\n",
    "    y_predicted = []\n",
    "    for row in X_test:\n",
    "        y = np.dot(w.T,row) + b\n",
    "        y_predicted.append(y)\n",
    "    return y_predicted"
   ]
  },
  {
   "cell_type": "code",
   "execution_count": 77,
   "metadata": {
    "scrolled": true
   },
   "outputs": [],
   "source": [
    "y_predicted = predict(w,b,X_test)\n"
   ]
  },
  {
   "cell_type": "code",
   "execution_count": 78,
   "metadata": {
    "scrolled": true
   },
   "outputs": [
    {
     "data": {
      "image/png": "[encoded data removed]",
      "text/plain": [
       "<Figure size 432x288 with 1 Axes>"
      ]
     },
     "metadata": {
      "needs_background": "light"
     },
     "output_type": "display_data"
    }
   ],
   "source": [
    "import matplotlib.pyplot as plt\n",
    "plt.scatter(Y_test, y_predicted)\n",
    "plt.xlabel(\"Prices: $Y_i$\")\n",
    "plt.ylabel(\"Predicted prices: $\\hat{Y}_i$\")\n",
    "plt.title(\"Prices vs Predicted prices: $Y_i$ vs $\\hat{Y}_i$ (own_sgd)\")\n",
    "plt.show()"
   ]
  },
  {
   "cell_type": "markdown",
   "metadata": {},
   "source": [
    "## summary\n",
    "- lots of points in x-range (15-25)\n",
    "- lots of points in y-range (15-25)\n",
    "- there are outliers xrange(50) they are predicted in range (18-25) by my model\n",
    "- my prediction is good"
   ]
  },
  {
   "cell_type": "markdown",
   "metadata": {},
   "source": [
    "## Part 3: predicted values Vs actual values of SGD from sklearn"
   ]
  },
  {
   "cell_type": "code",
   "execution_count": 80,
   "metadata": {
    "scrolled": true
   },
   "outputs": [
    {
     "name": "stderr",
     "output_type": "stream",
     "text": [
      "C:\\Users\\ravir\\Anaconda3\\lib\\site-packages\\sklearn\\linear_model\\stochastic_gradient.py:166: FutureWarning: max_iter and tol parameters have been added in SGDRegressor in 0.19. If both are left unset, they default to max_iter=5 and tol=None. If tol is not None, max_iter defaults to max_iter=1000. From 0.21, default max_iter will be 1000, and default tol will be 1e-3.\n",
      "  FutureWarning)\n"
     ]
    },
    {
     "data": {
      "image/png": "[encoded data removed]",
      "text/plain": [
       "<Figure size 432x288 with 1 Axes>"
      ]
     },
     "metadata": {
      "needs_background": "light"
     },
     "output_type": "display_data"
    }
   ],
   "source": [
    "# code source:https://medium.com/@haydar_ai/learning-data-science-day-9-linear-regression-on-boston-housing-dataset-cd62a80775ef\n",
    "from sklearn.linear_model import SGDRegressor\n",
    "\n",
    "lm = SGDRegressor(loss = 'squared_loss' ,fit_intercept=True)\n",
    "lm.fit(X_train, Y_train)\n",
    "\n",
    "Y_pred = lm.predict(X_test)\n",
    "plt.scatter(Y_test, Y_pred)\n",
    "plt.xlabel(\"Prices: $Y_i$\")\n",
    "plt.ylabel(\"Predicted prices: $\\hat{Y}_i$\")\n",
    "plt.title(\"Prices vs Predicted prices: $Y_i$ vs $\\hat{Y}_i$(sklearn_sgd)\")\n",
    "plt.show()"
   ]
  },
  {
   "cell_type": "markdown",
   "metadata": {},
   "source": [
    "## summary\n",
    "- most of the prices is predicted as '23'\n",
    "- there are outliers xrange(50) they are predicted in range (18-25)"
   ]
  },
  {
   "cell_type": "markdown",
   "metadata": {},
   "source": [
    "## part 4: comparing weights"
   ]
  },
  {
   "cell_type": "code",
   "execution_count": 81,
   "metadata": {
    "scrolled": true
   },
   "outputs": [
    {
     "name": "stdout",
     "output_type": "stream",
     "text": [
      "[-7.15569279e-02  7.51131682e-01  9.47988233e-02  2.56983395e-03\n",
      "  1.14778126e-02  1.87491638e-01  1.11017076e+00  1.18749364e-01\n",
      "  6.24167742e-02  5.90360999e+00  4.04102705e-01  1.02362150e+01\n",
      "  4.59630778e-02]\n"
     ]
    }
   ],
   "source": [
    "print(lm.coef_)"
   ]
  },
  {
   "cell_type": "code",
   "execution_count": 82,
   "metadata": {},
   "outputs": [
    {
     "data": {
      "text/plain": [
       "array([-14.11572271, -31.09801633,   1.81805275,  -0.73741451,\n",
       "        -1.54862015,   2.84273791, -34.01481513,  -1.10307373,\n",
       "        14.8700715 ,  12.05657102,  -4.85674583,  33.03570001,\n",
       "       -20.55053876])"
      ]
     },
     "execution_count": 82,
     "metadata": {},
     "output_type": "execute_result"
    }
   ],
   "source": [
    "w"
   ]
  },
  {
   "cell_type": "code",
   "execution_count": 83,
   "metadata": {},
   "outputs": [
    {
     "data": {
      "text/plain": [
       "array([-14.04416578, -31.84914801,   1.72325392,  -0.73998434,\n",
       "        -1.56009796,   2.65524627, -35.12498589,  -1.22182309,\n",
       "        14.80765473,   6.15296103,  -5.26084853,  22.79948499,\n",
       "       -20.59650183])"
      ]
     },
     "execution_count": 83,
     "metadata": {},
     "output_type": "execute_result"
    }
   ],
   "source": [
    "dif = w - lm.coef_\n",
    "dif"
   ]
  },
  {
   "cell_type": "markdown",
   "metadata": {},
   "source": [
    "## MSE"
   ]
  },
  {
   "cell_type": "code",
   "execution_count": 84,
   "metadata": {},
   "outputs": [],
   "source": [
    "def mse(y_predicted,Y_real):\n",
    "    add = 0\n",
    "    for i in range(len(Y_real)):\n",
    "        add = (y_predicted[i] - Y_real[i])**2\n",
    "    return add/len(Y_real)    \n"
   ]
  },
  {
   "cell_type": "code",
   "execution_count": 85,
   "metadata": {},
   "outputs": [
    {
     "data": {
      "text/plain": [
       "0.2611136042990568"
      ]
     },
     "execution_count": 85,
     "metadata": {},
     "output_type": "execute_result"
    }
   ],
   "source": [
    "mse_own_sgd = mse(y_predicted,Y_test)\n",
    "mse_own_sgd"
   ]
  },
  {
   "cell_type": "code",
   "execution_count": 86,
   "metadata": {},
   "outputs": [
    {
     "data": {
      "text/plain": [
       "0.26442943210377023"
      ]
     },
     "execution_count": 86,
     "metadata": {},
     "output_type": "execute_result"
    }
   ],
   "source": [
    "mse_sklearn_sgd = mse(Y_pred,Y_test)\n",
    "mse_sklearn_sgd"
   ]
  },
  {
   "cell_type": "code",
   "execution_count": 87,
   "metadata": {},
   "outputs": [
    {
     "data": {
      "text/plain": [
       "0.003315827804713456"
      ]
     },
     "execution_count": 87,
     "metadata": {},
     "output_type": "execute_result"
    }
   ],
   "source": [
    "diff_mse = np.absolute(mse_own_sgd - mse_sklearn_sgd)\n",
    "diff_mse"
   ]
  },
  {
   "cell_type": "markdown",
   "metadata": {},
   "source": [
    "## summary\n",
    "- my MSE difference is quite low, which is good"
   ]
  },
  {
   "cell_type": "markdown",
   "metadata": {},
   "source": [
    "<h1><font color = \"blue\"> a unknown query point from dataset without normalized.</font></h1>\n",
    "- its label(y_q) = 24\n",
    "- first point of Boston house prices dataset."
   ]
  },
  {
   "cell_type": "code",
   "execution_count": 94,
   "metadata": {
    "scrolled": true
   },
   "outputs": [
    {
     "name": "stdout",
     "output_type": "stream",
     "text": [
      "[[1.26388341e-05 3.59966795e-02 4.61957387e-03 0.00000000e+00\n",
      "  1.07590075e-03 1.31487871e-02 1.30387972e-01 8.17924550e-03\n",
      "  1.99981553e-03 5.91945396e-01 3.05971776e-02 7.93726783e-01\n",
      "  9.95908132e-03]]\n"
     ]
    },
    {
     "data": {
      "text/plain": [
       "array([24.97363047])"
      ]
     },
     "execution_count": 94,
     "metadata": {},
     "output_type": "execute_result"
    }
   ],
   "source": [
    "xq = np.array([0.00632,  18.0  ,2.31 , 0.0 , 0.538 , 6.575 , 65.2 , 4.0900 , 1.0 , 296.0 , 15.3, 396.90,  4.98])\n",
    "xq = normalizer.transform(xq.reshape(1,-1))\n",
    "print(xq)\n",
    "yp = np.dot(xq,w) + b\n",
    "yp"
   ]
  },
  {
   "cell_type": "markdown",
   "metadata": {},
   "source": [
    "# summary\n",
    "- i used my_own 'w' vector to predict the datapoint\n",
    "- i got 24.97 which is quite close to 24.\n",
    "- i bascially transform the query point which is already fitted for X_train.\n",
    "- sir, if i missed anything(you asked for without preprocessing), please tell me, if there is another way i am excited to learn that trick.\n",
    "- please give me response regarding this thing.\n",
    "- thank you."
   ]
  }
 ],
 "metadata": {
  "kernelspec": {
   "display_name": "Python 3",
   "language": "python",
   "name": "python3"
  },
  "language_info": {
   "codemirror_mode": {
    "name": "ipython",
    "version": 3
   },
   "file_extension": ".py",
   "mimetype": "text/x-python",
   "name": "python",
   "nbconvert_exporter": "python",
   "pygments_lexer": "ipython3",
   "version": "3.7.1"
  }
 },
 "nbformat": 4,
 "nbformat_minor": 2
}
